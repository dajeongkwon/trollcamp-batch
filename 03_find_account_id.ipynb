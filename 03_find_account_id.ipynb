{
 "cells": [
  {
   "cell_type": "code",
   "execution_count": 1,
   "metadata": {},
   "outputs": [],
   "source": [
    "import pandas as pd\n",
    "import trollcamp\n",
    "\n",
    "config = trollcamp.load_config()\n",
    "\n",
    "is_test = config['is_test']\n",
    "file_path = config['file_path']\n",
    "batch_name = config['batch_name']\n",
    "token_key = config['token_key']\n",
    "db_config = config['db_config']"
   ]
  },
  {
   "cell_type": "code",
   "execution_count": 2,
   "metadata": {},
   "outputs": [],
   "source": [
    "import glob\n",
    "\n",
    "def get_league_file_path():\n",
    "    if is_test == True:\n",
    "        return glob.glob(\"%s/%s/leagues/*.json\" % (file_path, batch_name))\n",
    "    else:\n",
    "        return trollcamp.AWS_files_in_dir(\"%s/leagues/\" % batch_name, config)"
   ]
  },
  {
   "cell_type": "code",
   "execution_count": 3,
   "metadata": {},
   "outputs": [],
   "source": [
    "league_file_path = get_league_file_path()\n",
    "#league_file_path"
   ]
  },
  {
   "cell_type": "code",
   "execution_count": 4,
   "metadata": {},
   "outputs": [],
   "source": [
    "players_df = pd.DataFrame(columns=['account_id'])\n",
    "players_call_api_df = pd.DataFrame(columns=['summoner_id', 'summoner_name'])\n",
    "players_error_df = pd.DataFrame(columns=['summoner_id', 'summoner_name'])"
   ]
  },
  {
   "cell_type": "code",
   "execution_count": 5,
   "metadata": {},
   "outputs": [],
   "source": [
    "cnx = trollcamp.db_connect(db_config)"
   ]
  },
  {
   "cell_type": "code",
   "execution_count": 6,
   "metadata": {},
   "outputs": [],
   "source": [
    "for path in league_file_path:\n",
    "    data = trollcamp.read_json(path, config, True)\n",
    "    \n",
    "    tier = data['tier']\n",
    "\n",
    "    for player in data['entries']:\n",
    "        summoner_id = player[\"playerOrTeamId\"]\n",
    "        summoner_name = player[\"playerOrTeamName\"]\n",
    "        rank = player[\"rank\"]\n",
    "\n",
    "        (result, account_id) = trollcamp.db_check_player(cnx, summoner_id)\n",
    "\n",
    "        if result == True:\n",
    "            players_df = players_df.append({'account_id': account_id}, ignore_index=True)\n",
    "        else:\n",
    "            players_call_api_df = players_call_api_df.append({'summoner_id': summoner_id, 'summoner_name': summoner_name}, ignore_index=True)\n",
    "                \n",
    "#players_call_api_df"
   ]
  },
  {
   "cell_type": "code",
   "execution_count": null,
   "metadata": {},
   "outputs": [],
   "source": [
    "# 테스트로 3개만 진행한다. 실제로는 temp_count 변수 관련 모두 삭제하고 실행할 것!\n",
    "\n",
    "#temp_count = 0\n",
    "for key, value in players_call_api_df.iterrows():\n",
    "    summoner_id = value[\"summoner_id\"]\n",
    "    summoner_name = value[\"summoner_name\"]\n",
    "    \n",
    "    (result, account_id) = trollcamp.call_api_summoners(summoner_id, token_key)\n",
    "    \n",
    "    if result == True:\n",
    "        players_df = players_df.append({'account_id': account_id}, ignore_index=True)\n",
    "        trollcamp.db_insert_player(cnx, account_id, summoner_id, summoner_name)\n",
    "    else:\n",
    "        players_error_df = players_error_df.append({'summoner_id': summoner_id, 'summoner_name': summoner_name}, ignore_index=True)\n",
    "        \n",
    "    #temp_count += 1\n",
    "    #if temp_count >= 3:\n",
    "        #break\n",
    "\n",
    "print(\"Api call is completed.\") "
   ]
  },
  {
   "cell_type": "code",
   "execution_count": 8,
   "metadata": {},
   "outputs": [],
   "source": [
    "trollcamp.db_close(cnx)"
   ]
  },
  {
   "cell_type": "code",
   "execution_count": 10,
   "metadata": {},
   "outputs": [],
   "source": [
    "def get_max_rows(df_length, split_count):\n",
    "    if (df_length % split_count) > 0:\n",
    "        return (df_length // split_count) + 1\n",
    "    else:\n",
    "        return (df_length // split_count) \n",
    "\n",
    "def get_split_dataframes(df):\n",
    "    max_rows = get_max_rows(len(df), config['chunk_count'])\n",
    "    split_dfs = []\n",
    "    while len(df) > max_rows:\n",
    "        top = df[:max_rows]\n",
    "        split_dfs.append(top)\n",
    "        df = df[max_rows:]\n",
    "    else:\n",
    "        split_dfs.append(df)\n",
    "    return split_dfs"
   ]
  },
  {
   "cell_type": "code",
   "execution_count": null,
   "metadata": {},
   "outputs": [],
   "source": [
    "#trollcamp.df_to_csv(players_df, \"%s/players.csv\" % (batch_name), config)\n",
    "\n",
    "split_dfs = get_split_dataframes(players_df)\n",
    "for idx, split_df in enumerate(split_dfs):\n",
    "    trollcamp.df_to_csv(split_df, \"%s/players/players-%d.csv\" % (batch_name, (idx+1)), config)"
   ]
  }
 ],
 "metadata": {
  "kernelspec": {
   "display_name": "Python 3",
   "language": "python",
   "name": "python3"
  },
  "language_info": {
   "codemirror_mode": {
    "name": "ipython",
    "version": 3
   },
   "file_extension": ".py",
   "mimetype": "text/x-python",
   "name": "python",
   "nbconvert_exporter": "python",
   "pygments_lexer": "ipython3",
   "version": "3.6.5"
  }
 },
 "nbformat": 4,
 "nbformat_minor": 2
}
