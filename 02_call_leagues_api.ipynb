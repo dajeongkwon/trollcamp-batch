{
 "cells": [
  {
   "cell_type": "code",
   "execution_count": 1,
   "metadata": {},
   "outputs": [],
   "source": [
    "import pandas as pd\n",
    "import trollcamp\n",
    "\n",
    "config = trollcamp.load_config()\n",
    "\n",
    "batch_name = config['batch_name']\n",
    "token_key = config['token_key']"
   ]
  },
  {
   "cell_type": "code",
   "execution_count": 2,
   "metadata": {},
   "outputs": [],
   "source": [
    "leagues_df = trollcamp.read_csv(\"%s/leagues_selected.csv\" % (batch_name), config)\n",
    "leagues_df = leagues_df.set_index('leagueId')\n",
    "#leagues_df"
   ]
  },
  {
   "cell_type": "code",
   "execution_count": 3,
   "metadata": {},
   "outputs": [
    {
     "name": "stdout",
     "output_type": "stream",
     "text": [
      "SUCCESS! call leagues api [f8ec080e-34cb-36e2-a405-e26ad377591c]\n",
      "Completed.\n"
     ]
    }
   ],
   "source": [
    "for league_id, values in leagues_df.iterrows():\n",
    "    (result, res_data) = trollcamp.call_api_leagues(league_id, token_key)\n",
    "    if result == False:\n",
    "        continue\n",
    "    trollcamp.write_json(res_data, \"%s/leagues/%s.json\" % (batch_name, league_id), config)\n",
    "        \n",
    "print('Completed.')"
   ]
  },
  {
   "cell_type": "code",
   "execution_count": null,
   "metadata": {},
   "outputs": [],
   "source": []
  }
 ],
 "metadata": {
  "kernelspec": {
   "display_name": "Python 3",
   "language": "python",
   "name": "python3"
  },
  "language_info": {
   "codemirror_mode": {
    "name": "ipython",
    "version": 3
   },
   "file_extension": ".py",
   "mimetype": "text/x-python",
   "name": "python",
   "nbconvert_exporter": "python",
   "pygments_lexer": "ipython3",
   "version": "3.6.5"
  }
 },
 "nbformat": 4,
 "nbformat_minor": 2
}
