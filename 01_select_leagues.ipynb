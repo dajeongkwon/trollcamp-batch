{
 "cells": [
  {
   "cell_type": "code",
   "execution_count": 1,
   "metadata": {},
   "outputs": [],
   "source": [
    "import pandas as pd\n",
    "import trollcamp\n",
    "\n",
    "config = trollcamp.load_config()\n",
    "\n",
    "batch_name = config['batch_name']\n",
    "trollcamp.check_directories(config)"
   ]
  },
  {
   "cell_type": "code",
   "execution_count": 2,
   "metadata": {},
   "outputs": [],
   "source": [
    "leagues_df = pd.read_csv(\"http://canisback.com/leagueId/league_kr.csv\")\n",
    "leagues_df = leagues_df.set_index('leagueId')\n",
    "\n",
    "#leagues_select_df = leagues_df[ (leagues_df['tier'] == 'CHALLENGER') | (leagues_df['tier'] == 'MASTER')]\n",
    "leagues_select_df = leagues_df[ (leagues_df['tier'] == 'CHALLENGER') ]\n",
    "#leagues_select_df"
   ]
  },
  {
   "cell_type": "code",
   "execution_count": 3,
   "metadata": {},
   "outputs": [],
   "source": [
    "trollcamp.df_to_csv(leagues_select_df, '%s/leagues_selected.csv' % (batch_name), config)"
   ]
  },
  {
   "cell_type": "code",
   "execution_count": null,
   "metadata": {},
   "outputs": [],
   "source": []
  }
 ],
 "metadata": {
  "kernelspec": {
   "display_name": "Python 3",
   "language": "python",
   "name": "python3"
  },
  "language_info": {
   "codemirror_mode": {
    "name": "ipython",
    "version": 3
   },
   "file_extension": ".py",
   "mimetype": "text/x-python",
   "name": "python",
   "nbconvert_exporter": "python",
   "pygments_lexer": "ipython3",
   "version": "3.6.5"
  }
 },
 "nbformat": 4,
 "nbformat_minor": 2
}
