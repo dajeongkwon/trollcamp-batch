{
 "cells": [
  {
   "cell_type": "code",
   "execution_count": 1,
   "metadata": {},
   "outputs": [],
   "source": [
    "import pandas as pd\n",
    "import trollcamp\n",
    "\n",
    "config = trollcamp.load_config()\n",
    "\n",
    "batch_name = config['batch_name']\n",
    "token_key = config['token_key']\n",
    "my_chunk_idx = config['my_chunk_idx']"
   ]
  },
  {
   "cell_type": "code",
   "execution_count": 2,
   "metadata": {},
   "outputs": [],
   "source": [
    "def call_player_matches(account_id):\n",
    "    player_matchlist_path = \"players/%s/%s.json\" % (account_id, batch_name)\n",
    "    \n",
    "    if trollcamp.is_exist_file(player_matchlist_path, config) == True:\n",
    "        matches = trollcamp.get_matches(player_matchlist_path, config)\n",
    "        # 테스트로 3개만 진행한다. 실제로는 temp_count 변수 관련 모두 삭제하고 실행할 것!\n",
    "        #temp_count = 0\n",
    "        new_file_count = 0\n",
    "        for match in matches:\n",
    "            match_id = match['gameId']\n",
    "            \n",
    "            match_path = \"matches/%s.json\" % (match_id)\n",
    "            if trollcamp.is_exist_file(match_path, config) == True:\n",
    "                continue\n",
    "            \n",
    "            (result, res_data) = trollcamp.call_api_matches(match_id, token_key)\n",
    "            if result == False:\n",
    "                continue\n",
    "            \n",
    "            trollcamp.write_json(res_data, match_path, config)\n",
    "            print(\"new file : %s\" % (match_path))\n",
    "            new_file_count += 1\n",
    "            #temp_count += 1\n",
    "            #if temp_count >= 3:\n",
    "                #break\n",
    "            \n",
    "        print(\"call player [%s] matches : new files : %d\" % (account_id, new_file_count))\n",
    "    else:\n",
    "        print(\"call player [%s] matches : no games since previous batch.\" % (account_id))\n",
    "\n",
    "def call_player_timelines(account_id):\n",
    "    player_matchlist_path = \"players/%s/%s.json\" % (account_id, batch_name)\n",
    "    \n",
    "    if trollcamp.is_exist_file(player_matchlist_path, config) == True:\n",
    "        matches = trollcamp.get_matches(player_matchlist_path, config)\n",
    "        # 테스트로 3개만 진행한다. 실제로는 temp_count 변수 관련 모두 삭제하고 실행할 것!\n",
    "        #temp_count = 0\n",
    "        new_file_count = 0\n",
    "        for match in matches:\n",
    "            match_id = match['gameId']\n",
    "            \n",
    "            timeline_path = \"timelines/%s.json\" % (match_id)\n",
    "            if trollcamp.is_exist_file(timeline_path, config) == True:\n",
    "                continue\n",
    "            \n",
    "            (result, res_data) = trollcamp.call_api_timelines(match_id, token_key)\n",
    "            if result == False:\n",
    "                continue\n",
    "                \n",
    "            trollcamp.write_json(res_data, timeline_path, config)\n",
    "            print(\"new file : %s\" % (timeline_path))\n",
    "            new_file_count += 1\n",
    "            #temp_count += 1\n",
    "            #if temp_count >= 3:\n",
    "                #break\n",
    "            \n",
    "        print(\"call player [%s] timelines : new files : %d\" % (account_id, new_file_count))\n",
    "    else:\n",
    "        print(\"call player [%s] timelines : no games since previous batch.\" % (account_id))"
   ]
  },
  {
   "cell_type": "code",
   "execution_count": 4,
   "metadata": {},
   "outputs": [],
   "source": [
    "players_chunk_file_path = \"%s/players/players-%d.csv\" % (batch_name, my_chunk_idx)\n",
    "players_df = trollcamp.read_csv(players_chunk_file_path, config) \n",
    "players_df = players_df.set_index('account_id')\n",
    "#players_df"
   ]
  },
  {
   "cell_type": "code",
   "execution_count": null,
   "metadata": {},
   "outputs": [],
   "source": [
    "# 테스트로 3개만 진행한다. 실제로는 temp_count 변수 관련 모두 삭제하고 실행할 것!\n",
    "#temp_count = 0\n",
    "\n",
    "for account_id, values in players_df.iterrows():\n",
    "    call_player_matches(account_id)\n",
    "    call_player_timelines(account_id)\n",
    "          \n",
    "    #temp_count += 1\n",
    "    #if temp_count >= 3:\n",
    "        #break\n",
    "        \n",
    "print('Completed.')"
   ]
  },
  {
   "cell_type": "code",
   "execution_count": null,
   "metadata": {},
   "outputs": [],
   "source": []
  }
 ],
 "metadata": {
  "kernelspec": {
   "display_name": "Python 3",
   "language": "python",
   "name": "python3"
  },
  "language_info": {
   "codemirror_mode": {
    "name": "ipython",
    "version": 3
   },
   "file_extension": ".py",
   "mimetype": "text/x-python",
   "name": "python",
   "nbconvert_exporter": "python",
   "pygments_lexer": "ipython3",
   "version": "3.6.5"
  }
 },
 "nbformat": 4,
 "nbformat_minor": 2
}
