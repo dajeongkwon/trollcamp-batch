{
 "cells": [
  {
   "cell_type": "code",
   "execution_count": 1,
   "metadata": {},
   "outputs": [],
   "source": [
    "import pandas as pd\n",
    "import trollcamp\n",
    "\n",
    "config = trollcamp.load_config()\n",
    "\n",
    "batch_name = config['batch_name']\n",
    "lol_season = config['lol_season']\n",
    "token_key = config['token_key']\n",
    "my_chunk_idx = config['my_chunk_idx']\n",
    "db_config = config['db_config']"
   ]
  },
  {
   "cell_type": "code",
   "execution_count": 2,
   "metadata": {},
   "outputs": [],
   "source": [
    "def get_matchlist_with_last_time(account_id, db_last_game_creation):\n",
    "    history = {'accountId': account_id, 'matches': []}\n",
    "    last_game_creation = 0\n",
    "    \n",
    "    begin_idx = 0\n",
    "    end_idx = 100\n",
    "    \n",
    "    run = True\n",
    "    while run:\n",
    "        (result, res_data) = trollcamp.call_api_matchlist(account_id, begin_idx, end_idx, token_key)\n",
    "        if result == True:\n",
    "            matches = res_data['matches']\n",
    "            if len(matches) < 1:\n",
    "                run = False\n",
    "                break\n",
    "            for match in matches:\n",
    "                game_season = match['season']\n",
    "                if game_season < lol_season:\n",
    "                    run = False\n",
    "                    break\n",
    "                game_creation = match['timestamp']\n",
    "                if game_creation <= db_last_game_creation:\n",
    "                    run = False\n",
    "                    break\n",
    "                if begin_idx == 0:\n",
    "                    last_game_creation = trollcamp.get_bigger(game_creation, last_game_creation)\n",
    "                history['matches'].append(match)\n",
    "        else:\n",
    "            break\n",
    "                \n",
    "        begin_idx += 100\n",
    "        end_idx +=100\n",
    "        \n",
    "    return (history, last_game_creation)\n",
    "\n",
    "def get_matchlist(account_id):\n",
    "    history = {'accountId': account_id, 'matches': []}\n",
    "    last_game_creation = 0\n",
    "    \n",
    "    (result, res_data) = trollcamp.call_api_matchlist(account_id, 0, 100, token_key)\n",
    "    if result == True:\n",
    "        matches = res_data['matches']\n",
    "        if len(matches) > 0:\n",
    "            for match in matches:\n",
    "                game_season = match['season']\n",
    "                if game_season < lol_season:\n",
    "                    run = False\n",
    "                    break\n",
    "                last_game_creation = trollcamp.get_bigger(match['timestamp'], last_game_creation)\n",
    "                history['matches'].append(match)\n",
    "        \n",
    "    return (history, last_game_creation)"
   ]
  },
  {
   "cell_type": "code",
   "execution_count": 3,
   "metadata": {},
   "outputs": [],
   "source": [
    "players_df = trollcamp.read_csv(\"%s/players/players-%d.csv\" % (batch_name, my_chunk_idx), config)   \n",
    "players_df = players_df.set_index('account_id')\n",
    "#players_df"
   ]
  },
  {
   "cell_type": "code",
   "execution_count": 4,
   "metadata": {},
   "outputs": [],
   "source": [
    "cnx = trollcamp.db_connect(db_config)"
   ]
  },
  {
   "cell_type": "code",
   "execution_count": null,
   "metadata": {},
   "outputs": [],
   "source": [
    "# 테스트로 3개만 진행한다. 실제로는 temp_count 변수 관련 모두 삭제하고 실행할 것!\n",
    "\n",
    "file_name = \"%s.json\" % batch_name\n",
    "\n",
    "#temp_count = 0\n",
    "\n",
    "for account_id, values in players_df.iterrows():\n",
    "    (db_exist, db_last_game_creation) = trollcamp.db_check_player_info(cnx, account_id)\n",
    "    history = dict()\n",
    "    last_game_creation = 0\n",
    "    \n",
    "    if db_exist == True:\n",
    "        (history, last_game_creation) = get_matchlist_with_last_time(account_id, db_last_game_creation)\n",
    "    else:\n",
    "        (history, last_game_creation) = get_matchlist(account_id)\n",
    "            \n",
    "    if last_game_creation > 0:\n",
    "        trollcamp.db_set_player_info(cnx, db_exist, account_id, last_game_creation)\n",
    "        dir_path = \"players/%s\" % account_id\n",
    "        trollcamp.write_json_with_check_directory(history, dir_path, file_name, config)\n",
    "        print(\"new file : %s/%s\" % (dir_path, file_name))\n",
    "       \n",
    "    #temp_count += 1\n",
    "    #if temp_count >= 3:\n",
    "        #break\n",
    "    \n",
    "print(\"Completed.\") "
   ]
  },
  {
   "cell_type": "code",
   "execution_count": 6,
   "metadata": {},
   "outputs": [],
   "source": [
    "trollcamp.db_close(cnx)"
   ]
  },
  {
   "cell_type": "code",
   "execution_count": null,
   "metadata": {},
   "outputs": [],
   "source": []
  }
 ],
 "metadata": {
  "kernelspec": {
   "display_name": "Python 3",
   "language": "python",
   "name": "python3"
  },
  "language_info": {
   "codemirror_mode": {
    "name": "ipython",
    "version": 3
   },
   "file_extension": ".py",
   "mimetype": "text/x-python",
   "name": "python",
   "nbconvert_exporter": "python",
   "pygments_lexer": "ipython3",
   "version": "3.6.5"
  }
 },
 "nbformat": 4,
 "nbformat_minor": 2
}
