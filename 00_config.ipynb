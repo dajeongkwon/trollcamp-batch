{
 "cells": [
  {
   "cell_type": "code",
   "execution_count": null,
   "metadata": {},
   "outputs": [],
   "source": [
    "##################################################################\n",
    "# batch를 돌릴때 가장 먼저 실행합니다.\n",
    "# 아래 설정 데이터들을 묶어 batch.config.json 파일로 저장합니다. (노트북이 있는 폴더에)\n",
    "# 노트북 숫자 순서대로 실행\n",
    "# 나눠서 각자 배치를 돌릴때는 아래 두 파일만 실행합니다.\n",
    "#       (1) 00_config 의 정보를 본인에게 맞게 수정한 후 실행  \n",
    "#       (2) 05_call_matches_timelines_api 를 실행 (40명분 데이터, 약 4시간반 소요 예상. 전원/네트워크 주의)\n",
    "# 사전에 필요한 작업은 노트북 하단 주석을 참고해주세요.\n",
    "##################################################################"
   ]
  },
  {
   "cell_type": "code",
   "execution_count": 1,
   "metadata": {},
   "outputs": [
    {
     "name": "stdout",
     "output_type": "stream",
     "text": [
      "new file : batch_config.json\n"
     ]
    }
   ],
   "source": [
    "# batch 돌릴때마다 이름을 변경해야한다. \n",
    "# 해당 batch의 파일을 저장하는 폴더명, 파일명으로 쓰일것이다.\n",
    "batch_name = '181106'\n",
    "\n",
    "# test 인지 아닌지 설정\n",
    "# True이면 로컬에, False이면 AWS에 데이터를 쌓는다.\n",
    "is_test = False\n",
    "\n",
    "# LOL Season \n",
    "lol_season = 11\n",
    "\n",
    "# LOL api token\n",
    "# 나눠서 각자 배치를 돌릴 경우에는 각자 발급받은 24시간용 토큰키를 넣어준다.\n",
    "# 불변키 문자열 : RGAPI-c07b29ed-3500-4800-xxxx-xxxxxxxxxxxx\n",
    "token_key = \"RGAPI-c07b29ed-3500-4800-xxxx-xxxxxxxxxxxx\"\n",
    "\n",
    "# 나눠서 각자 배치를 돌릴때 필요한 값들이다. \n",
    "# chunk count : 플레이어를 몇개의 청크로 나눌것인가\n",
    "# my chunk idx : 내가 돌릴 플레이어 청크 인덱스 (1:권다정, 2:이승하, 3:임종운, 4:정현주, 5:한은구)\n",
    "chunk_count = 5\n",
    "my_chunk_idx = 1\n",
    "\n",
    "# temp_file_path : 임시파일 저장소\n",
    "# local로만 진행. 아직 사용하는 곳이 없다.\n",
    "temp_file_path = '/Users/dajeongkwon/Documents/_TrollCamp/_data/temp'\n",
    "\n",
    "# local file path : RAW 데이터들이 저장될 기본 장소\n",
    "# 로컬 테스트시에 본인 디렉토리로 변경한다.\n",
    "file_path = '/Users/dajeongkwon/Documents/_TrollCamp/_data'\n",
    "\n",
    "# db information\n",
    "aws_db_config = { \n",
    "    'user': 'xxxx-user',\n",
    "    'password': 'xxxx-password',\n",
    "    'host': 'xxxx.yyyyyyyy.ap-northeast-2.rds.amazonaws.com',\n",
    "    'database': 'xxxx-database',\n",
    "    'raise_on_warnings': True\n",
    "}\n",
    "local_db_config = {\n",
    "    'user': 'xxxx-user',\n",
    "    'password': 'xxxx-password',\n",
    "    'host': '127.0.0.1',\n",
    "    'database': 'xxxx-database',\n",
    "    'raise_on_warnings': True\n",
    "}\n",
    "\n",
    "# S3 information\n",
    "s3_bucket_name = 'xxxx-bucket_name'\n",
    "s3_access_key_id = 'XXXX-access_key_id'\n",
    "s3_secret_access_key = 'XXXX-secret_access_key'\n",
    "\n",
    "\n",
    "#################\n",
    "\n",
    "\n",
    "import json\n",
    "\n",
    "db_config = local_db_config if is_test else aws_db_config\n",
    "\n",
    "config_dict = {\n",
    "    'batch_name': batch_name,\n",
    "    'is_test': is_test,\n",
    "    'lol_season': lol_season,\n",
    "    'token_key': token_key,\n",
    "    'chunk_count': chunk_count,\n",
    "    'my_chunk_idx': my_chunk_idx,\n",
    "    'temp_file_path': temp_file_path,\n",
    "    'file_path': file_path,\n",
    "    'db_config': db_config,\n",
    "    's3_bucket_name': s3_bucket_name,\n",
    "    's3_access_key_id': s3_access_key_id,\n",
    "    's3_secret_access_key': s3_secret_access_key\n",
    "}\n",
    "\n",
    "with open('batch_config.json', 'w') as f:\n",
    "    json.dump(config_dict, f)\n",
    "print(\"new file : batch_config.json\")"
   ]
  },
  {
   "cell_type": "code",
   "execution_count": 4,
   "metadata": {},
   "outputs": [
    {
     "name": "stdout",
     "output_type": "stream",
     "text": [
      "\n"
     ]
    }
   ],
   "source": [
    "# (boto3 설치가 필요함) - 맥 기준 명령어\n",
    "\n",
    "# $ sudo pip3 install boto3"
   ]
  },
  {
   "cell_type": "code",
   "execution_count": 3,
   "metadata": {},
   "outputs": [
    {
     "name": "stdout",
     "output_type": "stream",
     "text": [
      "\n"
     ]
    }
   ],
   "source": [
    "# (mysql-connector 설치가 필요함) - 맥 기준 명령어\n",
    "\n",
    "# $ git clone https://github.com/mysql/mysql-connector-python.git\n",
    "# $ cd mysql-connector-python\n",
    "# $ python3 ./setup.py build\n",
    "# $ sudo python3 ./setup.py install"
   ]
  },
  {
   "cell_type": "code",
   "execution_count": 5,
   "metadata": {},
   "outputs": [
    {
     "name": "stdout",
     "output_type": "stream",
     "text": [
      "\n"
     ]
    }
   ],
   "source": [
    "# AWS RDS 접근하려면 내 아이피를 보안그룹에 등록해야한다.\n",
    "# AWS console 로그인 (trello 참고)\n",
    "# RDS > 인스턴스 > oinglol\n",
    "# 스크롤 중간쯤 내리면 \"세부 정보\"  >  \"보안 및 네트워크\" > \"보안 그룹\" 이 있다. 클릭\n",
    "# 아래쪽 인바운드 > 편집 > 규칙추가 (내 IP)"
   ]
  }
 ],
 "metadata": {
  "kernelspec": {
   "display_name": "Python 3",
   "language": "python",
   "name": "python3"
  },
  "language_info": {
   "codemirror_mode": {
    "name": "ipython",
    "version": 3
   },
   "file_extension": ".py",
   "mimetype": "text/x-python",
   "name": "python",
   "nbconvert_exporter": "python",
   "pygments_lexer": "ipython3",
   "version": "3.6.5"
  }
 },
 "nbformat": 4,
 "nbformat_minor": 2
}
